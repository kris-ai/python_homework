{
 "cells": [
  {
   "cell_type": "code",
   "execution_count": 2,
   "metadata": {},
   "outputs": [
    {
     "data": {
      "text/plain": [
       "'Kris Kish - Unit 2 | Homework Assignment\\n\\nPyRamen\\n\\n'"
      ]
     },
     "execution_count": 2,
     "metadata": {},
     "output_type": "execute_result"
    }
   ],
   "source": [
    "# -*- coding: utf-8 -*-\n",
    "\"\"\"Kris Kish - Unit 2 | Homework Assignment\n",
    "\n",
    "PyRamen\n",
    "\n",
    "\"\"\"\n"
   ]
  },
  {
   "cell_type": "code",
   "execution_count": 9,
   "metadata": {},
   "outputs": [],
   "source": [
    "# Import the pathlib and csv library\n",
    "from pathlib import Path\n",
    "import csv\n",
    "\n",
    "# Import the NumPy library\n",
    "import numpy as np\n",
    "import numpy_financial as npf"
   ]
  },
  {
   "cell_type": "code",
   "execution_count": 31,
   "metadata": {},
   "outputs": [
    {
     "name": "stdout",
     "output_type": "stream",
     "text": [
      "['edamame', 'house salad', 'cucumber sunomono salad', 'hiyashi wakame seaweed salad', 'agedashi tofu', 'hiyayakko tofu', 'pork floss bao', 'kakuni bao', 'edamame fried gyoza (vegan)', 'fried gyoza', 'takoyaki', 'rock shrimp tempura', 'soft-shell crab tempura', 'ebi katsu shrimp bao', 'nagomi shoyu', 'shio ramen', 'spicy miso ramen', 'vegetarian spicy miso', 'miso crab ramen', 'soft-shell miso crab ramen', 'tori paitan ramen', 'tonkotsu ramen', 'burnt garlic tonkotsu ramen', 'vegetarian curry + king trumpet mushroom ramen', 'truffle butter ramen', 'green tea', 'coke', 'black sesame ice cream', 'matcha ice cream', 'mango mochi ice cream', 'strawberry mochi ice cream', 'black sesame creme brulee']\n",
      "['appetizers', 'appetizers', 'appetizers', 'appetizers', 'appetizers', 'appetizers', 'appetizers', 'appetizers', 'appetizers', 'appetizers', 'appetizers', 'appetizers', 'appetizers', 'appetizers', 'entree', 'entree', 'entree', 'entree', 'entree', 'entree', 'entree', 'entree', 'entree', 'entree', 'entree', 'drinks', 'drinks', 'desserts', 'desserts', 'desserts', 'desserts', 'desserts']\n"
     ]
    }
   ],
   "source": [
    "# Read in menu_data.csv and set its contents to a separate list object.\n",
    "\n",
    "# Set the file path\n",
    "csvpath = Path('Resources/menu_data.csv')\n",
    "\n",
    "# Initialize lists\n",
    "\n",
    "menu_item = []\n",
    "menu_cat = []\n",
    "menu_desc = []\n",
    "menu_price = []\n",
    "menu_cost = []\n",
    "menu_data = [\n",
    "    menu_item,\n",
    "    menu_cat,\n",
    "    menu_desc,\n",
    "    menu_price,\n",
    "    menu_cost,   \n",
    "    ]\n",
    "\n",
    "# Open the csv file as an object\n",
    "with open(csvpath, 'r') as csvfile:\n",
    "    \n",
    "    # Pass in the csv file to the csv.reader() function and return the csvreader object\n",
    "    csvreader = csv.reader(csvfile, delimiter=',')\n",
    "    \n",
    "    # Read/Skip the header row first\n",
    "    csv_header = next(csvreader)\n",
    "    \n",
    "    # Read/Iterate through each row of data after the header\n",
    "    for row in csvreader:\n",
    "        \n",
    "        # Append lists in Menu List with appropriate content\n",
    "        menu_data.append((menu_item.append(row[0]),menu_cat.append(row[1]),menu_desc.append(row[2]),menu_price.append(row[3]),menu_cost.append(row[4])))\n",
    "        \n",
    "    print(menu_item)\n",
    "    print(menu_cat)"
   ]
  },
  {
   "cell_type": "code",
   "execution_count": null,
   "metadata": {},
   "outputs": [],
   "source": []
  },
  {
   "cell_type": "code",
   "execution_count": null,
   "metadata": {},
   "outputs": [],
   "source": [
    ".append(row[0])])"
   ]
  },
  {
   "cell_type": "code",
   "execution_count": null,
   "metadata": {},
   "outputs": [],
   "source": []
  },
  {
   "cell_type": "code",
   "execution_count": null,
   "metadata": {},
   "outputs": [],
   "source": [
    ","
   ]
  },
  {
   "cell_type": "code",
   "execution_count": null,
   "metadata": {},
   "outputs": [],
   "source": []
  },
  {
   "cell_type": "code",
   "execution_count": null,
   "metadata": {},
   "outputs": [],
   "source": [
    "\n",
    "        Initialize an empty menu list object to hold the contents of menu_data.csv.\n",
    "\n",
    "        Use a with statement and open the menu_data.csv by using its file path.\n",
    "\n",
    "        Use the reader function from the csv library to begin reading menu_data.csv.\n",
    "\n",
    "        Use the next function to skip the header (first row of the CSV).\n",
    "\n",
    "        Loop over the rest of the rows and append every row to the menu list object (the outcome will be a list of lists).\n",
    "\n",
    "    Set up the same process to read in sales_data.csv. However, instead append every row of the sales data to a new sales list object.\n"
   ]
  },
  {
   "cell_type": "code",
   "execution_count": 11,
   "metadata": {},
   "outputs": [],
   "source": [
    "# Set output file name\n",
    "output_path = 'pyramen_report.txt'\n",
    "\n",
    "# Open the output path as a file object\n",
    "with open(output_path, 'w') as file:\n",
    "    \n",
    "    # Write Financial Analysis to the output file\n",
    "    file.write(\" \\n\")\n",
    "    file.write(\" \\n\")\n",
    "    file.write(f\" \\n\")\n",
    "    file.write(f\" \\n\")\n",
    "    file.write(f\" \\n\")\n",
    "    file.write(f\" \\n\")\n",
    "    file.write(f\" \\n\")"
   ]
  },
  {
   "cell_type": "code",
   "execution_count": null,
   "metadata": {},
   "outputs": [],
   "source": []
  }
 ],
 "metadata": {
  "kernelspec": {
   "display_name": "Python 3",
   "language": "python",
   "name": "python3"
  },
  "language_info": {
   "codemirror_mode": {
    "name": "ipython",
    "version": 3
   },
   "file_extension": ".py",
   "mimetype": "text/x-python",
   "name": "python",
   "nbconvert_exporter": "python",
   "pygments_lexer": "ipython3",
   "version": "3.7.7"
  }
 },
 "nbformat": 4,
 "nbformat_minor": 4
}
