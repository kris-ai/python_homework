{
 "cells": [
  {
   "cell_type": "code",
   "execution_count": 2,
   "metadata": {},
   "outputs": [
    {
     "data": {
      "text/plain": [
       "'Kris Kish - Unit 2 | Homework Assignment\\n\\nPyRamen\\n\\n'"
      ]
     },
     "execution_count": 2,
     "metadata": {},
     "output_type": "execute_result"
    }
   ],
   "source": [
    "# -*- coding: utf-8 -*-\n",
    "\"\"\"Kris Kish - Unit 2 | Homework Assignment\n",
    "\n",
    "PyRamen\n",
    "\n",
    "\"\"\"\n"
   ]
  },
  {
   "cell_type": "code",
   "execution_count": 9,
   "metadata": {},
   "outputs": [],
   "source": [
    "# Import the pathlib and csv library\n",
    "from pathlib import Path\n",
    "import csv\n",
    "\n",
    "# Import the NumPy library\n",
    "import numpy as np\n",
    "import numpy_financial as npf"
   ]
  },
  {
   "cell_type": "code",
   "execution_count": 67,
   "metadata": {},
   "outputs": [],
   "source": [
    "# Read in menu_data.csv and set its contents to a separate list object.\n",
    "\n",
    "# Set the file path\n",
    "csvpath = Path('Resources/menu_data.csv')\n",
    "sales_csvpath = ('Resources/sales_data.csv')\n",
    "\n",
    "# Initialize lists\n",
    "\n",
    "menu_item = []\n",
    "menu_cat = []\n",
    "menu_desc = []\n",
    "menu_price = []\n",
    "menu_cost = []\n",
    "\n",
    "menu_data = [\n",
    "    menu_item,\n",
    "    menu_cat,\n",
    "    menu_desc,\n",
    "    menu_price,\n",
    "    menu_cost   \n",
    "    ]\n",
    "\n",
    "line_item_ID = []\n",
    "sales_date = []\n",
    "cc_number = []\n",
    "sale_quantity = []\n",
    "sale_menu_item = []\n",
    "\n",
    "sales_data = [\n",
    "    line_item_ID,\n",
    "    sales_date,\n",
    "    cc_number,\n",
    "    sale_quantity,\n",
    "    sale_menu_item\n",
    "    ]\n",
    "\n",
    "# Open the csv file as an object\n",
    "with open(csvpath, 'r') as csvfile:\n",
    "    \n",
    "    # Pass in the csv file to the csv.reader() function and return the csvreader object\n",
    "    csvreader = csv.reader(csvfile, delimiter=',')\n",
    "    \n",
    "    # Read/Skip the header row first\n",
    "    csv_header = next(csvreader)\n",
    "    \n",
    "    # Read/Iterate through each row of data after the header\n",
    "    for row in csvreader:\n",
    "        \n",
    "        # Append lists in Menu List with appropriate content\n",
    "        menu_data.append((menu_item.append(row[0]),menu_cat.append(row[1]),menu_desc.append(row[2]),menu_price.append(row[3]),menu_cost.append(row[4])))\n",
    " \n",
    "    # Repeat open, pass, and read for sales_data csv\n",
    "with open(sales_csvpath, 'r') as sales_csvfile:\n",
    "    \n",
    "    sales_csvreader = csv.reader(sales_csvfile, delimiter=',')\n",
    "    sales_csv_header = next(sales_csvreader)\n",
    "    \n",
    "    for row in sales_csvreader:\n",
    "        \n",
    "        # Append lists in Sales with appropriate content\n",
    "        sales_data.append((line_item_ID.append(i[0]),sales_date.append(i[1]),cc_number.append(i[2]),sale_quantity.append(i[3]),sale_menu_item.append(i[4])))\n",
    "        \n",
    "\n",
    "# Initialize an empty report dictionary to hold the future aggregated per-product results.\n",
    "report = {}\n",
    "\n"
   ]
  },
  {
   "cell_type": "code",
   "execution_count": null,
   "metadata": {},
   "outputs": [],
   "source": []
  },
  {
   "cell_type": "code",
   "execution_count": null,
   "metadata": {},
   "outputs": [],
   "source": [
    "# Perform a quick check if the sales_item is already included in the report.\n"
   ]
  },
  {
   "cell_type": "code",
   "execution_count": null,
   "metadata": {},
   "outputs": [],
   "source": []
  },
  {
   "cell_type": "code",
   "execution_count": null,
   "metadata": {},
   "outputs": [],
   "source": [
    "\n",
    "# Cumulatively add the values to the corresponding metrics in the report like so:\n",
    "\n",
    "report[sales_item][\"01-count\"] += quantity\n",
    "report[sales_item][\"02-revenue\"] += price * quantity\n",
    "report[sales_item][\"03-cogs\"] += cost * quantity\n",
    "report[sales_item][\"04-profit\"] += profit * quantity"
   ]
  },
  {
   "cell_type": "code",
   "execution_count": 64,
   "metadata": {},
   "outputs": [],
   "source": [
    "# Set output file name\n",
    "output_path = 'pyramen_report.txt'\n",
    "\n",
    "# Open the output path as a file object\n",
    "with open(output_path, 'w') as file:\n",
    "    \n",
    "    # Write Financial Analysis to the output file\n",
    "    file.write(\" \\n\")\n",
    "    file.write(\" \\n\")\n",
    "    file.write(f\" \\n\")\n",
    "    file.write(f\" \\n\")\n",
    "    file.write(f\" \\n\")\n",
    "    file.write(f\" \\n\")\n",
    "    file.write(f\" \\n\")"
   ]
  },
  {
   "cell_type": "code",
   "execution_count": 11,
   "metadata": {},
   "outputs": [],
   "source": [
    "# scratchpad\n",
    "\n",
    "01-count = []\n",
    "02-revenue = []\n",
    "03-cogs = []\n",
    "04-profit = []"
   ]
  },
  {
   "cell_type": "code",
   "execution_count": null,
   "metadata": {},
   "outputs": [],
   "source": []
  }
 ],
 "metadata": {
  "kernelspec": {
   "display_name": "Python 3",
   "language": "python",
   "name": "python3"
  },
  "language_info": {
   "codemirror_mode": {
    "name": "ipython",
    "version": 3
   },
   "file_extension": ".py",
   "mimetype": "text/x-python",
   "name": "python",
   "nbconvert_exporter": "python",
   "pygments_lexer": "ipython3",
   "version": "3.7.7"
  }
 },
 "nbformat": 4,
 "nbformat_minor": 4
}
