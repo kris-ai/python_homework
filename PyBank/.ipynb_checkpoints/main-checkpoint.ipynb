{
 "cells": [
  {
   "cell_type": "code",
   "execution_count": 349,
   "metadata": {},
   "outputs": [
    {
     "name": "stdout",
     "output_type": "stream",
     "text": [
      "24\n",
      "Financial Analysis\n",
      "------------------\n",
      "Total months in reporting period: 86\n",
      "Net Total during the 86 month period was: $38382578\n",
      "The Average change in profit during the 86 month period was: $-2288.2\n",
      "The Greatest Increase in profit during the 86 month period was: $1926159 in Feb-2012\n",
      "The Greatest Decrease in profit during the 86 month period was: $-2196167 in Sep-2013\n"
     ]
    }
   ],
   "source": [
    "# -*- coding: utf-8 -*-\n",
    "\"\"\"Kris Kish - Unit 2 | Homework Assignment\n",
    "\n",
    "Python script that analyzes financial records to calculate each of the following:\n",
    "\n",
    "    1. The total number of months included in the dataset.\n",
    "\n",
    "    2. The net total amount of Profit/Losses over the entire period.\n",
    "\n",
    "    3. The average of the changes in Profit/Losses over the entire period.\n",
    "\n",
    "    4. The greatest increase in profits \n",
    "    (date and amount) over the entire period.\n",
    "\n",
    "    5. The greatest decrease in losses \n",
    "    (date and amount) over the entire period.\n",
    "\n",
    "\"\"\"\n",
    "\n",
    "# Import the pathlib and csv library\n",
    "from pathlib import Path\n",
    "import csv\n",
    "\n",
    "# Import the NumPy library\n",
    "import numpy as np\n",
    "import numpy_financial as npf\n",
    "\n",
    "# Set the file path\n",
    "csvpath = Path('Resources/budget_data.csv')\n",
    "\n",
    "# Initialize list of company records, change, and date\n",
    "records = []\n",
    "date = []\n",
    "rev_changes = []\n",
    "\n",
    "\n",
    "# Inititalize variables\n",
    "total_months = 0\n",
    "net_total = 0\n",
    "n = 0\n",
    "avg_change = 0\n",
    "\n",
    "# Open the csv file as an object\n",
    "with open(csvpath, 'r') as csvfile:\n",
    "    \n",
    "    # Pass in the csv file to the csv.reader() function and return the csvreader object\n",
    "    csvreader = csv.reader(csvfile, delimiter=',')\n",
    "    \n",
    "    # Read/Skip the header row first\n",
    "    csv_header = next(csvreader)\n",
    "\n",
    "    # Read/Iterate through each row of data after the header\n",
    "    for row in csvreader:\n",
    "        \n",
    "        # add Date into date list and P/L into records\n",
    "        date.append(row[0])\n",
    "        records.append(int(row[1]))\n",
    "        \n",
    "    # Calculate Total Time Period\n",
    "    total_months = len(date)\n",
    "    \n",
    "    # Calculate the net total amount of Profit/Losses over the entire period.\n",
    "    for i in range(0, len(records)):\n",
    "        net_total += records[i]\n",
    "        \n",
    "    \n",
    "    # Find the average of the changes in P/L over the entire period\n",
    "    for x in range(1, len(records)):\n",
    "        rev_changes.append(records[x]-records[x-1])\n",
    "        \n",
    "# Calculate the average of the changes in P/L over the entire period\n",
    "avg_change = round((np.sum(rev_changes)/total_months),2)\n",
    "                \n",
    "# Calculate the greatest increase in profits (date and amount) over the entire period.\n",
    "greatest_prof_increase = max(rev_changes)\n",
    "increase_month = str(date[rev_changes.index(np.max(greatest_prof_increase))+1])\n",
    "                       \n",
    "\n",
    "# Calculate the greatest decrease in losses (date and amount) over the entire period.\n",
    "least_prof_decrease = min(rev_changes)\n",
    "decrease_month = str(date[rev_changes.index(np.min(least_prof_decrease))+1])\n",
    "\n",
    "# Print the analysis to the terminal \n",
    "\n",
    "print(\"Financial Analysis\")\n",
    "print(\"------------------\")\n",
    "print(f\"Total months in reporting period: {total_months}\")\n",
    "print(f\"Net Total during the {total_months} month period was: ${net_total}\")\n",
    "print(f\"The Average change in profit during the {total_months} month period was: ${avg_change}\")\n",
    "print(f\"The Greatest Increase in profit during the {total_months} month \\\n",
    "period was: ${greatest_prof_increase} in {increase_month}\")\n",
    "print(f\"The Greatest Decrease in profit during the {total_months} month \\\n",
    "period was: ${least_prof_decrease} in {decrease_month}\")\n",
    "\n"
   ]
  },
  {
   "cell_type": "code",
   "execution_count": 328,
   "metadata": {},
   "outputs": [],
   "source": [
    "        # n = total_months\n",
    "        \n",
    "        # if n == 1: \n",
    "        \n",
    "            # change = prof_loss\n",
    "            # records.append(change)\n",
    "            \n",
    "        # elif n > 1:\n",
    "            \n",
    "            # change = prof_loss - int(records[1])"
   ]
  },
  {
   "cell_type": "code",
   "execution_count": 329,
   "metadata": {},
   "outputs": [
    {
     "data": {
      "text/plain": [
       "''"
      ]
     },
     "execution_count": 329,
     "metadata": {},
     "output_type": "execute_result"
    }
   ],
   "source": [
    "# original algo\n",
    "\n",
    "     #    change = prof_loss - int(records[1])\n",
    "     #   avg_change = round(change/total_months,2)\n",
    "        \n",
    "        \n",
    "    #scratch\n",
    "\"\"\"\"\"\"\n",
    "                #   change = prof_loss - int(records[1])\n",
    "        #   avg_change = round(change/total_months,2)\n",
    "            \n",
    "        # total = np.array(records)\n",
    "        # changes = np.diff(total,0)  \n",
    "        # avg_change = (np.sum(changes))/total_months\n",
    "        \n",
    "        # total = np.array(records,dtype=object)\n",
    "\"\"\"\"\"\"\n",
    "        "
   ]
  },
  {
   "cell_type": "code",
   "execution_count": 330,
   "metadata": {},
   "outputs": [],
   "source": [
    " # original headers\n",
    "    \n",
    "        # Append the column 'Average' to the header\n",
    "    # csv_header.append(\"Average\")\n",
    "\n",
    "    # Append the header to the list of records\n",
    "    # records.append(csv_header)\n",
    "    \n",
    "    # Print the header (Take out before publish)\n",
    "    # print(csv_header)"
   ]
  },
  {
   "cell_type": "code",
   "execution_count": 14,
   "metadata": {},
   "outputs": [],
   "source": []
  },
  {
   "cell_type": "code",
   "execution_count": 8,
   "metadata": {},
   "outputs": [],
   "source": []
  },
  {
   "cell_type": "code",
   "execution_count": null,
   "metadata": {},
   "outputs": [],
   "source": []
  },
  {
   "cell_type": "code",
   "execution_count": 13,
   "metadata": {},
   "outputs": [],
   "source": [
    "# Set the path for the output.csv\n",
    "output = Path(\"finanical_output.txt\")\n",
    "\n",
    "# Export a text file with the results"
   ]
  },
  {
   "cell_type": "code",
   "execution_count": null,
   "metadata": {},
   "outputs": [],
   "source": []
  }
 ],
 "metadata": {
  "kernelspec": {
   "display_name": "Python 3",
   "language": "python",
   "name": "python3"
  },
  "language_info": {
   "codemirror_mode": {
    "name": "ipython",
    "version": 3
   },
   "file_extension": ".py",
   "mimetype": "text/x-python",
   "name": "python",
   "nbconvert_exporter": "python",
   "pygments_lexer": "ipython3",
   "version": "3.7.7"
  }
 },
 "nbformat": 4,
 "nbformat_minor": 4
}
