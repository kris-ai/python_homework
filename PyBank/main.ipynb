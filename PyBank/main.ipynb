{
 "cells": [
  {
   "cell_type": "code",
   "execution_count": 196,
   "metadata": {},
   "outputs": [
    {
     "name": "stdout",
     "output_type": "stream",
     "text": [
      "['Date', 'Profit/Losses', 'Average']\n",
      "Financial Analysis\n",
      "------------------\n",
      "Total months in reporting period: 86\n",
      "Net Total during the 86 month period was: $38382578\n",
      "The Average change in profit during the 86 month period was: $-2288.2\n"
     ]
    }
   ],
   "source": [
    "# -*- coding: utf-8 -*-\n",
    "\"\"\"Kris Kish - Unit 2 | Homework Assignment\n",
    "\n",
    "Python script that analyzes financial records to calculate each of the following:\n",
    "\n",
    "    1. The total number of months included in the dataset.\n",
    "\n",
    "    2. The net total amount of Profit/Losses over the entire period.\n",
    "\n",
    "    3. The average of the changes in Profit/Losses over the entire period.\n",
    "\n",
    "    4. The greatest increase in profits (date and amount) over the entire period.\n",
    "\n",
    "    5. The greatest decrease in losses (date and amount) over the entire period.\n",
    "\n",
    "\"\"\"\n",
    "\n",
    "# Import the pathlib and csv library\n",
    "from pathlib import Path\n",
    "import csv\n",
    "\n",
    "# Import the NumPy library\n",
    "import numpy as np\n",
    "import numpy_financial as npf\n",
    "\n",
    "# Set the file path\n",
    "csvpath = Path('Resources/budget_data.csv')\n",
    "\n",
    "# Initialize list of company records\n",
    "records = []\n",
    "\n",
    "# Inititalize variables\n",
    "total_months = 0\n",
    "net_total = 0\n",
    "avg_change = 0\n",
    "total_change = 0\n",
    "\n",
    "# Open the csv file as an object\n",
    "with open(csvpath, 'r') as csvfile:\n",
    "    \n",
    "    # Pass in the csv file to the csv.reader() function and return the csvreader object\n",
    "    csvreader = csv.reader(csvfile, delimiter=',')\n",
    "    \n",
    "    # Read/Skip the header row first\n",
    "    csv_header = next(csvreader)\n",
    "\n",
    "    # Append the column 'Average' to the header\n",
    "    csv_header.append(\"Average\")\n",
    "\n",
    "    # Append the header to the list of records\n",
    "    records.append(csv_header)\n",
    "    \n",
    "    # Print the header (Take out before publish)\n",
    "    print(csv_header)\n",
    "           \n",
    "    \n",
    "    # Read/Iterate through each row of data after the header\n",
    "    \n",
    "    for row in csvreader:\n",
    "        \n",
    "        # Calculate total number of months included in the dataset.\n",
    "        total_months += 1\n",
    "        \n",
    "        # Convert the number in the text file from string to int\n",
    "        prof_loss = int(row[1])\n",
    "        \n",
    "        # Populate records list with integer of Profit/Loss\n",
    "        records.append(prof_loss)\n",
    "        \n",
    "        # Calculate the net total amount of Profit/Losses over the entire period.\n",
    "        net_total += prof_loss\n",
    "        \n",
    "        # Calculate the average of the changes in Profit/Losses over the entire period.\n",
    "        \n",
    "        # n = total_months\n",
    "        \n",
    "        # if n == 1: \n",
    "        \n",
    "            # change = prof_loss\n",
    "            # records.append(change)\n",
    "            \n",
    "        # elif n > 1:\n",
    "            \n",
    "            # change = prof_loss - int(records[1])\n",
    "            \n",
    "            \n",
    "        # total = np.array(records)\n",
    "        # changes = np.diff(total,0)  \n",
    "        # avg_change = (np.sum(changes))/total_months\n",
    "        \n",
    "        \n",
    "        change = prof_loss - int(records[1])\n",
    "        avg_change = round(change/total_months,2)\n",
    "        \n",
    "\n",
    "# Calculate the greatest increase in profits (date and amount) over the entire period.\n",
    "\n",
    "\n",
    "# Calculate the greatest decrease in losses (date and amount) over the entire period.\n",
    "\n",
    "\n",
    "# Print the analysis to the terminal \n",
    "\n",
    "print(\"Financial Analysis\")\n",
    "print(\"------------------\")\n",
    "print(f\"Total months in reporting period: {total_months}\")\n",
    "print(f\"Net Total during the {total_months} month period was: ${net_total}\")\n",
    "print(f\"The Average change in profit during the {total_months} month period was: ${avg_change}\")\n",
    "\n"
   ]
  },
  {
   "cell_type": "code",
   "execution_count": 3,
   "metadata": {},
   "outputs": [],
   "source": []
  },
  {
   "cell_type": "code",
   "execution_count": 18,
   "metadata": {},
   "outputs": [],
   "source": []
  },
  {
   "cell_type": "code",
   "execution_count": 35,
   "metadata": {},
   "outputs": [],
   "source": []
  },
  {
   "cell_type": "code",
   "execution_count": 36,
   "metadata": {},
   "outputs": [
    {
     "name": "stdout",
     "output_type": "stream",
     "text": [
      "['Date', 'Profit/Losses']\n"
     ]
    }
   ],
   "source": [
    "\n",
    "    "
   ]
  },
  {
   "cell_type": "code",
   "execution_count": 14,
   "metadata": {},
   "outputs": [],
   "source": []
  },
  {
   "cell_type": "code",
   "execution_count": 5,
   "metadata": {},
   "outputs": [],
   "source": [
    "\n",
    "\n"
   ]
  },
  {
   "cell_type": "code",
   "execution_count": 6,
   "metadata": {},
   "outputs": [],
   "source": []
  },
  {
   "cell_type": "code",
   "execution_count": 7,
   "metadata": {},
   "outputs": [],
   "source": []
  },
  {
   "cell_type": "code",
   "execution_count": 8,
   "metadata": {},
   "outputs": [],
   "source": []
  },
  {
   "cell_type": "code",
   "execution_count": 10,
   "metadata": {},
   "outputs": [],
   "source": []
  },
  {
   "cell_type": "code",
   "execution_count": 37,
   "metadata": {},
   "outputs": [
    {
     "name": "stdout",
     "output_type": "stream",
     "text": [
      "Financial Analysis /n\n",
      "------------------ /n\n",
      "Total Months: 86\n"
     ]
    }
   ],
   "source": []
  },
  {
   "cell_type": "code",
   "execution_count": 13,
   "metadata": {},
   "outputs": [],
   "source": [
    "# Set the path for the output.csv\n",
    "output = Path(\"finanical_output.txt\")\n",
    "\n",
    "# Export a text file with the results"
   ]
  },
  {
   "cell_type": "code",
   "execution_count": null,
   "metadata": {},
   "outputs": [],
   "source": []
  },
  {
   "cell_type": "code",
   "execution_count": null,
   "metadata": {},
   "outputs": [],
   "source": []
  }
 ],
 "metadata": {
  "kernelspec": {
   "display_name": "Python 3",
   "language": "python",
   "name": "python3"
  },
  "language_info": {
   "codemirror_mode": {
    "name": "ipython",
    "version": 3
   },
   "file_extension": ".py",
   "mimetype": "text/x-python",
   "name": "python",
   "nbconvert_exporter": "python",
   "pygments_lexer": "ipython3",
   "version": "3.7.7"
  }
 },
 "nbformat": 4,
 "nbformat_minor": 4
}
